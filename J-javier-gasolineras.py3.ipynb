{
 "cells": [
  {
   "cell_type": "code",
   "execution_count": null,
   "metadata": {
    "collapsed": true
   },
   "outputs": [],
   "source": []
  },
  {
   "cell_type": "code",
   "execution_count": null,
   "metadata": {
    "collapsed": true
   },
   "outputs": [],
   "source": []
  },
  {
   "cell_type": "code",
   "execution_count": 3,
   "metadata": {},
   "outputs": [
    {
     "name": "stdout",
     "output_type": "stream",
     "text": [
      "50\n",
      "40\n",
      "40\n",
      "40\n",
      "40\n",
      "40\n",
      "0\n",
      "1 0 1 0\n"
     ]
    }
   ],
   "source": [
    "#Leer los kms del deposito lleno\n",
    "repostado = int(input())\n",
    "\n",
    "#Lee el recorrido\n",
    "distancia = int(input()) #Lee la primera distancia\n",
    "distancias = [] #Inicia a vacia la lista de distancias\n",
    "\n",
    "while distancia != 0:\n",
    "    distancias.append(distancia)\n",
    "    distancia =  int(input())#Lee la siguiente distancia\n",
    "#print(distancias)\n",
    "#print(len(distancias))\n",
    "\n",
    "salida = \"\"\n",
    "sum = distancias[0]\n",
    "for i in range(len(distancias)-1):\n",
    "    sum += distancias[i+1]\n",
    "    if sum >= repostado:\n",
    "        salida = salida + \"1 \"\n",
    "        sum = 0\n",
    "        #print(i, \"  \", salida)\n",
    "    else:\n",
    "        salida = salida + \"0 \"\n",
    "        #print(i,\"  \", salida)\n",
    "\n",
    "#Salida del resultado de paradas propuestas\n",
    "print(salida.strip()) # 50 --- 45  10  34  24  25  0 "
   ]
  },
  {
   "cell_type": "code",
   "execution_count": null,
   "metadata": {
    "collapsed": true
   },
   "outputs": [],
   "source": []
  }
 ],
 "metadata": {
  "kernelspec": {
   "display_name": "Python 3",
   "language": "python",
   "name": "python3"
  },
  "language_info": {
   "codemirror_mode": {
    "name": "ipython",
    "version": 3
   },
   "file_extension": ".py",
   "mimetype": "text/x-python",
   "name": "python",
   "nbconvert_exporter": "python",
   "pygments_lexer": "ipython3",
   "version": "3.6.1"
  }
 },
 "nbformat": 4,
 "nbformat_minor": 2
}
