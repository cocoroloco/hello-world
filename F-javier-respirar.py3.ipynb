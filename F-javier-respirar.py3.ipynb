{
 "cells": [
  {
   "cell_type": "code",
   "execution_count": 19,
   "metadata": {},
   "outputs": [
    {
     "name": "stdout",
     "output_type": "stream",
     "text": [
      "PruEba de LIneA de Entrada\n",
      "PraAba da LAnaA da Antrada\n",
      "PreEbe de LEneE de Entrede\n",
      "PriIbi di LIniI di Intridi\n",
      "ProObo do LOnoO do Ontrodo\n",
      "PruUbu du LUnuU du Untrudu\n"
     ]
    }
   ],
   "source": [
    "# Preparamos las vocales \n",
    "vocales = \"aeiou\"\n",
    "'''\n",
    "#Comprobar cómo es vocales\n",
    "print(vocales)\n",
    "print(type(vocales))\n",
    "print(vocales[0])\n",
    "'''\n",
    "#Leemos la linea de entrada\n",
    "linea_entrada = input() # Ejemplo: PruEba de LIneA de Entrada\n",
    "\n",
    "for nueva_vocal in vocales:\n",
    "    #print(vocal)\n",
    "    linea_salida = linea_entrada #Pone la linea de salida igual a la linea original\n",
    "    for vocal_actual in vocales: #Sustituye cada vocal en la linea de salida con la nueva_vocal\n",
    "        linea_salida = linea_salida.replace(vocal_actual, nueva_vocal)\n",
    "        linea_salida = linea_salida.replace(vocal_actual.upper(), nueva_vocal.upper())\n",
    "    print(linea_salida) #Imprime la linea de salida con las vocales a la nueva_vocal\n"
   ]
  },
  {
   "cell_type": "code",
   "execution_count": null,
   "metadata": {
    "collapsed": true
   },
   "outputs": [],
   "source": [
    "vocales = \"aeiou\"\n",
    "\n",
    "'''\n",
    "#Comprobar cómo es vocales\n",
    "print(vocales)\n",
    "print(type(vocales))\n",
    "print(vocales[0])\n",
    "'''\n",
    "#Leemos la linea de entrada\n",
    "linea_entrada = input() # Ejemplo: PruEba de LIneA de Entrada\n",
    "\n",
    "for nueva_vocal in vocales:\n",
    "    #print(vocal)\n",
    "    linea_salida = linea_entrada #Pone la linea de salida igual a la linea original\n",
    "    for nueva_vocal in vocales_nuevas: #Sustituye cada vocal en la linea de salida con la nueva_vocal\n",
    "        linea_salida = linea_salida.replace(vocal_actual, nueva_vocal)\n",
    "    print(linea_salida) #Imprime la linea de salida con las vocales a la nueva_vocal\n"
   ]
  }
 ],
 "metadata": {
  "kernelspec": {
   "display_name": "Python 3",
   "language": "python",
   "name": "python3"
  },
  "language_info": {
   "codemirror_mode": {
    "name": "ipython",
    "version": 3
   },
   "file_extension": ".py",
   "mimetype": "text/x-python",
   "name": "python",
   "nbconvert_exporter": "python",
   "pygments_lexer": "ipython3",
   "version": "3.6.1"
  }
 },
 "nbformat": 4,
 "nbformat_minor": 2
}
