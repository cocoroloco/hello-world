{
 "cells": [
  {
   "cell_type": "code",
   "execution_count": null,
   "metadata": {
    "collapsed": true
   },
   "outputs": [],
   "source": [
    "#Combinaciones (no hay repeticiones). Ejemplo: Helados de 3 sabores posibles \n",
    "#print(list(combinations(['chocolate', 'fresa','limón','naranja','vainilla'],3))) \n",
    "\n",
    "#Permutaciones (se puede repetir, importante el orden). Ejemplo: Recorridos de visitas a 3 ciudades de Extremadura\n",
    "#print(list(permutations(['Cáceres', 'Mérida', 'Navalmoral', 'Plasencia'],3))) \n",
    "\n",
    "# Python function to print permutations of a given list\n",
    "def permutation(lst):\n",
    " \n",
    "    # If lst is empty then there are no permutations\n",
    "    if len(lst) == 0:\n",
    "        return []\n",
    " \n",
    "    # If there is only one element in lst then, only\n",
    "    # one permuatation is possible\n",
    "    if len(lst) == 1:\n",
    "        return [lst]\n",
    " \n",
    "    # Find the permutations for lst if there are\n",
    "    # more than 1 characters\n",
    " \n",
    "    l = [] # empty list that will store current permutation\n",
    " \n",
    "    # Iterate the input(lst) and calculate the permutation\n",
    "    for i in range(len(lst)):\n",
    "       m = lst[i]\n",
    " \n",
    "       # Extract lst[i] or m from the list.  remLst is\n",
    "       # remaining list\n",
    "       remLst = lst[:i] + lst[i+1:]\n",
    " \n",
    "       # Generating all permutations where m is first\n",
    "       # element\n",
    "       for p in permutation(remLst):\n",
    "           l.append([m] + p)\n",
    "    return l\n",
    " \n",
    "# Driver program to test above function\n",
    "#data = list('123')\n",
    "#for p in permutation(data):\n",
    "#    print (p)\n",
    "    \n",
    "#Numero de cadenas a permutar\n",
    "num_cadenas = int(input())\n",
    "\n",
    "for i in (range(num_cadenas)):\n",
    "    cadena = list(input()) # Cadena a permutar --> Transformada en lista de caracteres\n",
    "    permutaciones = permutation(cadena)\n",
    "    #print(permutaciones)\n",
    "    salidas = [] #Forma la lista de palabras a ordenar\n",
    "    for permutacion in permutaciones:\n",
    "        cadena = \"\"\n",
    "        salidas.append(cadena.join(permutacion))\n",
    "    #print(salidas)\n",
    "    salidas.sort() #Ordena la lista de cadenas de salida\n",
    "    #sorted(salidas, key=lambda cadena: len(cadena), reverse=True)\n",
    "    #print(salidas)\n",
    "    for i in salidas:\n",
    "        print(i) \n",
    "    print() #Imprime linea en blanco antes de la nueva secuencia de permutaciones\n",
    "    \n",
    "#print(\"FIN\")"
   ]
  },
  {
   "cell_type": "raw",
   "metadata": {},
   "source": []
  },
  {
   "cell_type": "code",
   "execution_count": null,
   "metadata": {
    "collapsed": true
   },
   "outputs": [],
   "source": []
  },
  {
   "cell_type": "code",
   "execution_count": null,
   "metadata": {
    "collapsed": true
   },
   "outputs": [],
   "source": []
  }
 ],
 "metadata": {
  "kernelspec": {
   "display_name": "Python 3",
   "language": "python",
   "name": "python3"
  },
  "language_info": {
   "codemirror_mode": {
    "name": "ipython",
    "version": 3
   },
   "file_extension": ".py",
   "mimetype": "text/x-python",
   "name": "python",
   "nbconvert_exporter": "python",
   "pygments_lexer": "ipython3",
   "version": "3.6.1"
  }
 },
 "nbformat": 4,
 "nbformat_minor": 2
}
