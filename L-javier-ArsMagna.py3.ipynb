{
 "cells": [
  {
   "cell_type": "code",
   "execution_count": 35,
   "metadata": {},
   "outputs": [
    {
     "name": "stdout",
     "output_type": "stream",
     "text": [
      "3\n",
      "asd\n",
      "ads\n",
      "asd\n",
      "das\n",
      "dsa\n",
      "sad\n",
      "sda\n",
      "\n",
      "wfx\n",
      "fwx\n",
      "fxw\n",
      "wfx\n",
      "wxf\n",
      "xfw\n",
      "xwf\n",
      "\n",
      "hji\n",
      "hij\n",
      "hji\n",
      "ihj\n",
      "ijh\n",
      "jhi\n",
      "jih\n",
      "\n"
     ]
    }
   ],
   "source": [
    "#import itertools as it \n",
    "from itertools import combinations, permutations\n",
    "#print(list(combinations([1,2,3,4],3))) #Combinaciones \n",
    "#print(list(permutations(['a','b','c','d'],3))) #Permutaciones\n",
    "#print(list(combinations(['chocolate', 'fresa','limón','naranja','vainilla'],3))) #Combinaciones: Helados de 3 sabores posibles \n",
    "#print(list(permutations(['Cáceres', 'Mérida', 'Navalmoral', 'Plasencia'],3))) #Permutaciones: Recorridos de visitas a 3 ciudades de Extremadura\n",
    "\n",
    "#Numero de cadenas a permutar\n",
    "num_cadenas = int(input())\n",
    "\n",
    "for i in (range(num_cadenas)):\n",
    "    cadena = input() # Cadena a permutar\n",
    "    if len(cadena) == 1:\n",
    "        print(cadena)\n",
    "        print()\n",
    "        continue\n",
    "    permutaciones = list(permutations(cadena,len(cadena))) #Lista con todas las permutaciones de la cadena de entrada\n",
    "    #print(permutaciones)\n",
    "    salidas = [] #Forma la lista de palabras a ordenar\n",
    "    for permutacion in permutaciones:\n",
    "        cadena = \"\"\n",
    "        salidas.append(cadena.join(permutacion))\n",
    "    '''    for permutacion in permutaciones: #Imprime en una cadena los caracteres de cada lista de permutacion\n",
    "            salida = \"\"\n",
    "            for j in range(len(permutacion)):\n",
    "                salida = salida + permutacion[j]\n",
    "            salidas.append(salida)\n",
    "    ''' \n",
    "    #print(salidas)\n",
    "    salidas.sort() #Ordena la lista de cadenas de salida\n",
    "    #sorted(salidas, key=lambda cadena: len(cadena), reverse=True)\n",
    "    #print(salidas)\n",
    "    for i in salidas:\n",
    "        print(i) #Imprime linea en blanco antes de la nueva secuencia de permutaciones\n",
    "    print() #Imprimir linea en blanco\n",
    "    \n",
    "#print(\"FIN\")"
   ]
  },
  {
   "cell_type": "raw",
   "metadata": {},
   "source": []
  },
  {
   "cell_type": "code",
   "execution_count": null,
   "metadata": {
    "collapsed": true
   },
   "outputs": [],
   "source": []
  },
  {
   "cell_type": "code",
   "execution_count": null,
   "metadata": {
    "collapsed": true
   },
   "outputs": [],
   "source": []
  }
 ],
 "metadata": {
  "kernelspec": {
   "display_name": "Python 3",
   "language": "python",
   "name": "python3"
  },
  "language_info": {
   "codemirror_mode": {
    "name": "ipython",
    "version": 3
   },
   "file_extension": ".py",
   "mimetype": "text/x-python",
   "name": "python",
   "nbconvert_exporter": "python",
   "pygments_lexer": "ipython3",
   "version": "3.6.1"
  }
 },
 "nbformat": 4,
 "nbformat_minor": 2
}
