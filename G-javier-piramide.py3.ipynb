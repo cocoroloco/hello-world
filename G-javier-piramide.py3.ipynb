{
 "cells": [
  {
   "cell_type": "code",
   "execution_count": 56,
   "metadata": {},
   "outputs": [
    {
     "name": "stdout",
     "output_type": "stream",
     "text": [
      "8\n",
      "123456787654321\n",
      " 2345678765432 \n",
      "  34567876543  \n",
      "   456787654   \n",
      "    5678765    \n",
      "     67876     \n",
      "      787      \n",
      "       8       \n",
      "      787      \n",
      "     67876     \n",
      "    5678765    \n",
      "   456787654   \n",
      "  34567876543  \n",
      " 2345678765432 \n",
      "123456787654321\n"
     ]
    }
   ],
   "source": [
    "import sys\n",
    "\n",
    "#Altura de la pirámide\n",
    "altura = int(input())\n",
    "if (altura < 1) or (altura > 9):\n",
    "    print(\"Error de la altura\")\n",
    "    sys.exit(0)\n",
    "\n",
    "if altura == 1:\n",
    "    print(1)\n",
    "    sys.exit(0)\n",
    "\n",
    "#Creamos la base de la pirámide \n",
    "salida = \"\"\n",
    "for i in list(range(1, altura+1)):\n",
    "    salida = salida + str(i)\n",
    "for i in list(range(1, altura)):\n",
    "    salida = salida + str(altura-i)\n",
    "\n",
    "#Imprimimos la piramide invertida, guardando cada linea en la pila piramide\n",
    "print(salida)\n",
    "piramide = []\n",
    "piramide.insert(0, salida)\n",
    "\n",
    "for i in list(range(1, altura)):\n",
    "    salida = salida.replace(str(i),\" \")\n",
    "    print(salida)\n",
    "    piramide.insert(0, salida)\n",
    "\n",
    "#Imprimimos la piramide invertida\n",
    "for i in list(range(1, len(piramide))):\n",
    "    print(piramide[i])\n"
   ]
  },
  {
   "cell_type": "code",
   "execution_count": null,
   "metadata": {
    "collapsed": true
   },
   "outputs": [],
   "source": []
  }
 ],
 "metadata": {
  "kernelspec": {
   "display_name": "Python 3",
   "language": "python",
   "name": "python3"
  },
  "language_info": {
   "codemirror_mode": {
    "name": "ipython",
    "version": 3
   },
   "file_extension": ".py",
   "mimetype": "text/x-python",
   "name": "python",
   "nbconvert_exporter": "python",
   "pygments_lexer": "ipython3",
   "version": "3.6.1"
  }
 },
 "nbformat": 4,
 "nbformat_minor": 2
}
