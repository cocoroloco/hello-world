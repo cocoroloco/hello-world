{
 "cells": [
  {
   "cell_type": "code",
   "execution_count": 3,
   "metadata": {},
   "outputs": [
    {
     "name": "stdout",
     "output_type": "stream",
     "text": [
      "3\n",
      "1\n",
      "Fibonacci\n",
      "0\n",
      "Fibonacci\n",
      "5\n",
      "Fibonacci\n"
     ]
    }
   ],
   "source": [
    "def Comprobar_Fibonacci (x): #Comprueba si el número x es Fibonacci o no, devuelve texto como respuesta\n",
    "    fib1 = 0\n",
    "    fib2 = 1\n",
    "    fib = fib1 + fib2\n",
    "    if x == 0:\n",
    "        return(\"Fibonacci\")\n",
    "    while x >= fib:\n",
    "        if x == fib:\n",
    "            return(\"Fibonacci\")\n",
    "        fib1 = fib2\n",
    "        fib2 = fib\n",
    "        fib = fib1 + fib2\n",
    "    return(\"No Fibonacci\")\n",
    "\n",
    "# print(Comprobar_Fibonacci(5)) #Comprobar que funciona la funcion para 5\n",
    "\n",
    "#Leer el número de entradas\n",
    "num_lineas = int(input())\n",
    "\n",
    "while num_lineas > 0:\n",
    "    numero = int(input())\n",
    "    print(Comprobar_Fibonacci(numero))\n",
    "    # num_lineas = num_lineas - 1 # En Python es más común usar += -= *= /=\n",
    "    num_lineas -= 1\n",
    "    "
   ]
  },
  {
   "cell_type": "code",
   "execution_count": 2,
   "metadata": {},
   "outputs": [
    {
     "data": {
      "text/plain": [
       "4"
      ]
     },
     "execution_count": 2,
     "metadata": {},
     "output_type": "execute_result"
    }
   ],
   "source": [
    "2 + 2"
   ]
  },
  {
   "cell_type": "code",
   "execution_count": null,
   "metadata": {
    "collapsed": true
   },
   "outputs": [],
   "source": []
  }
 ],
 "metadata": {
  "kernelspec": {
   "display_name": "Python 3",
   "language": "python",
   "name": "python3"
  },
  "language_info": {
   "codemirror_mode": {
    "name": "ipython",
    "version": 3
   },
   "file_extension": ".py",
   "mimetype": "text/x-python",
   "name": "python",
   "nbconvert_exporter": "python",
   "pygments_lexer": "ipython3",
   "version": "3.6.1"
  }
 },
 "nbformat": 4,
 "nbformat_minor": 2
}
