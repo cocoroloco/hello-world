{
 "cells": [
  {
   "cell_type": "code",
   "execution_count": null,
   "metadata": {
    "scrolled": true
   },
   "outputs": [
    {
     "name": "stdout",
     "output_type": "stream",
     "text": [
      "23432\n",
      "S\n",
      "45678\n",
      "N\n",
      "456787654\n",
      "S\n",
      "3456  \n",
      "N\n",
      "3443   \n",
      "S\n",
      "  3443\n",
      "S\n"
     ]
    }
   ],
   "source": [
    "#Leer la primera entrada\n",
    "numero = input().strip() # En este problema nos interesa que se considere como una cadena de carcteres\n",
    "#print(numero)\n",
    "#print(len(numero))\n",
    "\n",
    "while numero != \"0\":\n",
    "    invertido = \"\"\n",
    "    for i in range(len(numero), 0, -1):\n",
    "        invertido = invertido + numero[i-1] \n",
    "    #print(invertido)\n",
    "    if numero == invertido:\n",
    "        print(\"S\")\n",
    "    else: \n",
    "        print(\"N\")\n",
    "    numero = input().strip()\n",
    "        "
   ]
  },
  {
   "cell_type": "code",
   "execution_count": null,
   "metadata": {
    "collapsed": true
   },
   "outputs": [],
   "source": []
  }
 ],
 "metadata": {
  "kernelspec": {
   "display_name": "Python 3",
   "language": "python",
   "name": "python3"
  },
  "language_info": {
   "codemirror_mode": {
    "name": "ipython",
    "version": 3
   },
   "file_extension": ".py",
   "mimetype": "text/x-python",
   "name": "python",
   "nbconvert_exporter": "python",
   "pygments_lexer": "ipython3",
   "version": "3.6.1"
  }
 },
 "nbformat": 4,
 "nbformat_minor": 2
}
