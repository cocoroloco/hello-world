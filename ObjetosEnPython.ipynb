{
 "cells": [
  {
   "cell_type": "code",
   "execution_count": null,
   "metadata": {
    "collapsed": true
   },
   "outputs": [],
   "source": []
  },
  {
   "cell_type": "code",
   "execution_count": null,
   "metadata": {
    "collapsed": true
   },
   "outputs": [],
   "source": []
  },
  {
   "cell_type": "code",
   "execution_count": 13,
   "metadata": {},
   "outputs": [
    {
     "name": "stdout",
     "output_type": "stream",
     "text": [
      "H\n",
      "4\n",
      "H\n",
      "<class 'str'>\n",
      "o\n",
      "<class 'str'>\n",
      "l\n",
      "<class 'str'>\n",
      "a\n",
      "<class 'str'>\n",
      "1\n",
      "2\n",
      "3\n",
      "0\n",
      "1\n",
      "2\n",
      "3\n",
      "4\n",
      "5\n",
      "6\n",
      "7\n",
      "8\n",
      "9\n"
     ]
    },
    {
     "data": {
      "text/plain": [
       "'print(\"--\")\\ni = 0\\nwhile i < len(cadena):\\n    print(cadena[i])\\n    i += 1\\n# cadena[0] = \"h\"\\n\\na = cadena\\nb = \"Hola\"\\nprint(id(b))\\nprint(type(b))\\nprint(id(a))\\na= \"Hol\"\\nprint(id(a))\\nl1= [1, 2, 3]\\nl2 = [1, 2, 3]\\nprint (id(l1))\\nprint(id(l2))\\nl2 = l1\\nprint(\"id de l2 \", id(l2))\\n'"
      ]
     },
     "execution_count": 13,
     "metadata": {},
     "output_type": "execute_result"
    }
   ],
   "source": [
    "cadena = \"Hola\"\n",
    "\n",
    "print(cadena[0])\n",
    "print(len(cadena))\n",
    "\n",
    "for letra in cadena:\n",
    "    print(letra)\n",
    "    print(type(letra))\n",
    "\n",
    "    \n",
    "'''for i in range(len(l1)):\n",
    "    print(numero[i])\n",
    "'''\n",
    "'''print(\"--\")\n",
    "i = 0\n",
    "while i < len(cadena):\n",
    "    print(cadena[i])\n",
    "    i += 1\n",
    "# cadena[0] = \"h\"\n",
    "\n",
    "a = cadena\n",
    "b = \"Hola\"\n",
    "print(id(b))\n",
    "print(type(b))\n",
    "print(id(a))\n",
    "a= \"Hol\"\n",
    "print(id(a))\n",
    "l1= [1, 2, 3]\n",
    "l2 = [1, 2, 3]\n",
    "print (id(l1))\n",
    "print(id(l2))\n",
    "l2 = l1\n",
    "print(\"id de l2 \", id(l2))\n",
    "'''"
   ]
  },
  {
   "cell_type": "code",
   "execution_count": 18,
   "metadata": {},
   "outputs": [
    {
     "name": "stdout",
     "output_type": "stream",
     "text": [
      "range(0, 10)\n",
      "0\n",
      "3\n",
      "6\n",
      "9\n"
     ]
    }
   ],
   "source": [
    "l1= [1, 2, 3]\n",
    "   \n",
    "l1= [1, 2, 3]\n",
    "print(range(10))\n",
    "for i in range(0, 10, 3):\n",
    "    print(i)"
   ]
  },
  {
   "cell_type": "code",
   "execution_count": 23,
   "metadata": {},
   "outputs": [
    {
     "name": "stdout",
     "output_type": "stream",
     "text": [
      "[1, 2, 3]\n",
      "3\n",
      "2\n"
     ]
    }
   ],
   "source": [
    "l1= [1, 2, 3]\n",
    "print(l1)\n",
    "for i in range(len(l1)-1, -1, -1): # range( long. de cadena-1 = indice-posición del último elemento, parada (no debe ser 0), incremento)\n",
    "    print(l1[i])"
   ]
  },
  {
   "cell_type": "code",
   "execution_count": 30,
   "metadata": {},
   "outputs": [
    {
     "name": "stdout",
     "output_type": "stream",
     "text": [
      "i , cadena[i] --> 0 , H\n",
      "i , cadena[i] --> 1 , o\n",
      "i , cadena[i] --> 2 , l\n",
      "i , cadena[i] --> 3 , a\n"
     ]
    }
   ],
   "source": [
    "cadena = \"Hola\"\n",
    "for i in range(len(cadena)): # range(len(objeto_secuencia)) está preparado para generar directamente los indices 0,...,len-1)\n",
    "    print(\"i , cadena[i] -->\", i , \",\", cadena[i])\n",
    "    \n",
    "    "
   ]
  },
  {
   "cell_type": "code",
   "execution_count": 31,
   "metadata": {},
   "outputs": [
    {
     "name": "stdout",
     "output_type": "stream",
     "text": [
      "i , cadena[i] --> 0 , H\n",
      "i , cadena[i] --> 1 , o\n",
      "i , cadena[i] --> 2 , l\n",
      "i , cadena[i] --> 3 , a\n"
     ]
    }
   ],
   "source": [
    "cadena = \"Hola\"\n",
    "for i in range(len(cadena)): # range(len(objeto_secuencia)) está preparado para generar directamente los indices 0,...,len-1)\n",
    "    print(\"i , cadena[i] -->\", i , \",\", cadena[i])\n",
    "    \n",
    "    "
   ]
  },
  {
   "cell_type": "code",
   "execution_count": 37,
   "metadata": {},
   "outputs": [
    {
     "name": "stdout",
     "output_type": "stream",
     "text": [
      "a\n",
      "l\n",
      "o\n",
      "H\n"
     ]
    }
   ],
   "source": [
    "cadena = \"Hola\"\n",
    "for i in range(len(cadena)-1, -1, -1): # range(len(objeto_secuencia)) está preparado para generar directamente los indices 0,...,len-1)\n",
    "    print(cadena[i])\n",
    "    "
   ]
  },
  {
   "cell_type": "code",
   "execution_count": null,
   "metadata": {
    "collapsed": true
   },
   "outputs": [],
   "source": []
  }
 ],
 "metadata": {
  "kernelspec": {
   "display_name": "Python 3",
   "language": "python",
   "name": "python3"
  }
 },
 "nbformat": 4,
 "nbformat_minor": 2
}
