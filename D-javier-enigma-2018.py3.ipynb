{
 "cells": [
  {
   "cell_type": "code",
   "execution_count": null,
   "metadata": {},
   "outputs": [],
   "source": [
    "num_maquinas = int(input())\n",
    "\n",
    "j=1\n",
    "while j <= num_maquinas:\n",
    "    \n",
    "    linea = input()\n",
    "    maquina = linea.split()\n",
    "\n",
    "    rotores = int(maquina[0])\n",
    "\n",
    "    i = 1\n",
    "    combinaciones = 1 # Producto de las combinaciones de los rotores\n",
    "    while i <= rotores:\n",
    "        a =  int(maquina[i])\n",
    "        combinaciones = combinaciones * a\n",
    "        print(i, \" -->\", maquina[i], rotores)\n",
    "        i = i + 1\n",
    "    print(combinaciones)\n",
    "    j += 1\n",
    "    \n",
    "    \n"
   ]
  },
  {
   "cell_type": "code",
   "execution_count": 2,
   "metadata": {},
   "outputs": [
    {
     "name": "stdout",
     "output_type": "stream",
     "text": [
      "[0, 1, 2]\n"
     ]
    }
   ],
   "source": [
    "print(list(range(0,3)))"
   ]
  },
  {
   "cell_type": "code",
   "execution_count": 8,
   "metadata": {},
   "outputs": [
    {
     "name": "stdout",
     "output_type": "stream",
     "text": [
      "hola\n",
      "a\n",
      "l\n",
      "o\n",
      "h\n"
     ]
    }
   ],
   "source": [
    "cadena = input()\n",
    "\n",
    "for i in list(range(len(cadena)-1, -1 , -1)):\n",
    "    print(cadena[i])\n"
   ]
  },
  {
   "cell_type": "code",
   "execution_count": null,
   "metadata": {
    "collapsed": true
   },
   "outputs": [],
   "source": []
  }
 ],
 "metadata": {
  "kernelspec": {
   "display_name": "Python 3",
   "language": "python",
   "name": "python3"
  },
  "language_info": {
   "codemirror_mode": {
    "name": "ipython",
    "version": 3
   },
   "file_extension": ".py",
   "mimetype": "text/x-python",
   "name": "python",
   "nbconvert_exporter": "python",
   "pygments_lexer": "ipython3",
   "version": "3.6.1"
  }
 },
 "nbformat": 4,
 "nbformat_minor": 2
}
