{
 "cells": [
  {
   "cell_type": "code",
   "execution_count": null,
   "metadata": {},
   "outputs": [
    {
     "name": "stdout",
     "output_type": "stream",
     "text": [
      "5 49\n",
      "10\n"
     ]
    }
   ],
   "source": [
    "#c = numero de estudiantes que caben en un laboratorio entre 0 y 100000\n",
    "#a = numero de estudiantes matriculados entre 0 y 1000000\n",
    "\n",
    "import sys\n",
    "while True:\n",
    "    # leer variables\n",
    "    v = input()\n",
    "    c, a = v.split()\n",
    "    a = int(a)\n",
    "    c = int(c)\n",
    "\n",
    "    if c == 0:\n",
    "        sys.exit()\n",
    "    else:\n",
    "        # operaciones\n",
    "        g = (a // c)  # // da la parte no decimal de una division\n",
    "        if a % c == 0:\n",
    "            print(g)\n",
    "        else:\n",
    "            print(g + 1)"
   ]
  },
  {
   "cell_type": "code",
   "execution_count": null,
   "metadata": {
    "collapsed": true
   },
   "outputs": [],
   "source": []
  }
 ],
 "metadata": {
  "kernelspec": {
   "display_name": "Python 3",
   "language": "python",
   "name": "python3"
  },
  "language_info": {
   "codemirror_mode": {
    "name": "ipython",
    "version": 3
   },
   "file_extension": ".py",
   "mimetype": "text/x-python",
   "name": "python",
   "nbconvert_exporter": "python",
   "pygments_lexer": "ipython3",
   "version": "3.6.1"
  }
 },
 "nbformat": 4,
 "nbformat_minor": 2
}
