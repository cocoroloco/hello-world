{
 "cells": [
  {
   "cell_type": "code",
   "execution_count": 18,
   "metadata": {},
   "outputs": [
    {
     "name": "stdout",
     "output_type": "stream",
     "text": [
      "3\n",
      "6\n",
      "GHIJKLMNOPQRSTUVWXYZABCDEF\n",
      "dict_items([('G', 'A'), ('H', 'B'), ('I', 'C'), ('J', 'D'), ('K', 'E'), ('L', 'F'), ('M', 'G'), ('N', 'H'), ('O', 'I'), ('P', 'J'), ('Q', 'K'), ('R', 'L'), ('S', 'M'), ('T', 'N'), ('U', 'O'), ('V', 'P'), ('W', 'Q'), ('X', 'R'), ('Y', 'S'), ('Z', 'T'), ('A', 'U'), ('B', 'V'), ('C', 'W'), ('D', 'X'), ('E', 'Y'), ('F', 'Z')])\n",
      "ABCDEFGHIJKLMNOPQRSTUVWXYZ\n",
      "15\n",
      "Thipbdh rtatqgpcsd ta pcxktghpgxd st Ijgxcv.\n",
      "dict_items([('P', 'A'), ('Q', 'B'), ('R', 'C'), ('S', 'D'), ('T', 'E'), ('U', 'F'), ('V', 'G'), ('W', 'H'), ('X', 'I'), ('Y', 'J'), ('Z', 'K'), ('A', 'L'), ('B', 'M'), ('C', 'N'), ('D', 'O'), ('E', 'P'), ('F', 'Q'), ('G', 'R'), ('H', 'S'), ('I', 'T'), ('J', 'U'), ('K', 'V'), ('L', 'W'), ('M', 'X'), ('N', 'Y'), ('O', 'Z')])\n",
      "Estamos celebrando el aniversario de Turing.\n",
      "9\n",
      "Exh j pjwja nbcn lxwldabx mn yaxpajvjlrxw.\n",
      "dict_items([('J', 'A'), ('K', 'B'), ('L', 'C'), ('M', 'D'), ('N', 'E'), ('O', 'F'), ('P', 'G'), ('Q', 'H'), ('R', 'I'), ('S', 'J'), ('T', 'K'), ('U', 'L'), ('V', 'M'), ('W', 'N'), ('X', 'O'), ('Y', 'P'), ('Z', 'Q'), ('A', 'R'), ('B', 'S'), ('C', 'T'), ('D', 'U'), ('E', 'V'), ('F', 'W'), ('G', 'X'), ('H', 'Y'), ('I', 'Z')])\n",
      "Voy a ganar este concurso de programacion.\n"
     ]
    },
    {
     "data": {
      "text/plain": [
       "'ABCDEFGHIJKLMNOPQRSTUVWXYZ\\nEstamos celebrando el aniversario de Turing.\\nVoy a ganar este concurso de programacion.'"
      ]
     },
     "execution_count": 18,
     "metadata": {},
     "output_type": "execute_result"
    }
   ],
   "source": [
    "num_pruebas = int(input())\n",
    "\n",
    "texto_original = \"ABCDEFGHIJKLMNOPQRSTUVWXYZ\"\n",
    "num_codigos = len(texto_original) #Números de caracteres a codificar\n",
    "#print(texto_original)\n",
    "\n",
    "for caso in range(num_pruebas):\n",
    "    clave = int(input()) #Desplazamiento usado para cifrar el mensaje\n",
    "    mensaje = input() #Leemos el mensaje cifrado\n",
    "    #diccionario_cifrado sera un diccionario con la transcripción para cada letra a su nueva letra cifrada\n",
    "    diccionario_cifrado = dict() #declaramos diccionario_cifrado como un diccionario (inicialmente vacío)\n",
    "    for i in range(0, num_codigos): #Añadimos los valores de caracteres y su cifrado\n",
    "        #print(i, \" --> \", texto_original[i])\n",
    "        dir_elemento = (i + clave) % num_codigos #dirección del elemento a cifrar\n",
    "        #print(dir_elemento)\n",
    "        #diccionario_cifrado[texto_original[i]] = texto_original[dir_elemento]\n",
    "        diccionario_cifrado[texto_original[dir_elemento]] = texto_original[i]\n",
    "    #print(diccionario_cifrado.items())\n",
    "    #Desciframos el mensaje\n",
    "    mensaje_descifrado = \"\"\n",
    "    for j in range(len(mensaje)):\n",
    "        letra_entrada = mensaje[j]\n",
    "        letra_salida = diccionario_cifrado.get(letra_entrada.upper(), None)\n",
    "        if letra_salida == None:\n",
    "            letra_salida = mensaje[j]\n",
    "        elif mensaje[j].islower(): \n",
    "            letra_salida = letra_salida.lower()\n",
    "        mensaje_descifrado = mensaje_descifrado + letra_salida\n",
    "    print(mensaje_descifrado)\n",
    "    caso += 1\n",
    "\n",
    "'''\n",
    "3\n",
    "6\n",
    "GHIJKLMNOPQRSTUVWXYZABCDEF\n",
    "15\n",
    "Thipbdh rtatqgpcsd ta pcxktghpgxd st Ijgxcv.\n",
    "9\n",
    "Exh j pjwja nbcn lxwldabx mn yaxpajvjlrxw.\n",
    "'''\n",
    "'''ABCDEFGHIJKLMNOPQRSTUVWXYZ\n",
    "Estamos ceGHIJKLMNOPQRSTUVWXYZABCDEFlebrando el aniversario de Turing.\n",
    "Voy a ganar este concurso de programacion.'''"
   ]
  },
  {
   "cell_type": "code",
   "execution_count": null,
   "metadata": {
    "collapsed": true
   },
   "outputs": [],
   "source": []
  },
  {
   "cell_type": "code",
   "execution_count": null,
   "metadata": {
    "collapsed": true
   },
   "outputs": [],
   "source": []
  }
 ],
 "metadata": {
  "kernelspec": {
   "display_name": "Python 3",
   "language": "python",
   "name": "python3"
  }
 },
 "nbformat": 4,
 "nbformat_minor": 2
}
