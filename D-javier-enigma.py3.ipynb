{
 "cells": [
  {
   "cell_type": "code",
   "execution_count": null,
   "metadata": {},
   "outputs": [],
   "source": [
    "#import sys #No necesario si usamos break en el bucle while\n",
    "import numpy as np #Permite obtener el producto de las combinaciones de rotores de cada máquina en una sola sentencia\n",
    "\n",
    "'''\n",
    "#Pruebas con matrices\n",
    "a = np.array([[1,2],[3,4]])\n",
    "b = np.array([[5,6],[7,8]])\n",
    "print(np.multiply(a,b)) #Producto elemento a elemento\n",
    "print(np.dot(a,b)) #Producto de matrices\n",
    "\n",
    "m = [1, 2, 3, 4]\n",
    "m = np.array(m)\n",
    "a = 3+m\n",
    "b = 3*m\n",
    "c = m/3\n",
    "d = 3/m\n",
    "print(a, b, c, d)\n",
    "'''\n",
    "# Leer el numero de lineas\n",
    "num_maquinas = int(input())\n",
    "num_lineas = num_maquinas\n",
    "\n",
    "#Para cada linea leo los datos de la máquina y obtengo las combinaciones\n",
    "while num_lineas > 0:\n",
    "    #Leemos los datos de la máquina actual\n",
    "    desc_maquina = input()\n",
    "    #print(desc_maquina)    \n",
    "    #Los datos de la máquina los separamos en una matriz de cadenas de números\n",
    "    dm = desc_maquina.split()\n",
    "    #print(dm)    \n",
    "    #Pasamos las cadenas a enteros\n",
    "    dm = list(map(int, dm))\n",
    "    #Quitamos el primer dato que es el número de rotores\n",
    "    n_rotores = dm.pop(0) #dm queda ya sólo con los datos de los rotores\n",
    "    #print(n_rotores)\n",
    "    #print(dm)\n",
    "    #Comprobamos que tenemos las combinaciones de todos los rotores\n",
    "    if n_rotores != len(dm):\n",
    "        print(\"Error en los datos de la máquina \", num_maquinas-num_lineas+1)\n",
    "        break\n",
    "        #sys.exit(0)\n",
    "    # Imprimimos el producto de las combinaciones de todos los rotores  \n",
    "    print(np.prod(dm))    \n",
    "    #Decrementamos el número de líneas\n",
    "    num_lineas = num_lineas - 1\n",
    "\n",
    "# Fin del programa"
   ]
  },
  {
   "cell_type": "code",
   "execution_count": null,
   "metadata": {
    "collapsed": true
   },
   "outputs": [],
   "source": []
  }
 ],
 "metadata": {
  "kernelspec": {
   "display_name": "Python 3",
   "language": "python",
   "name": "python3"
  },
  "language_info": {
   "codemirror_mode": {
    "name": "ipython",
    "version": 3
   },
   "file_extension": ".py",
   "mimetype": "text/x-python",
   "name": "python",
   "nbconvert_exporter": "python",
   "pygments_lexer": "ipython3",
   "version": "3.6.1"
  }
 },
 "nbformat": 4,
 "nbformat_minor": 2
}
